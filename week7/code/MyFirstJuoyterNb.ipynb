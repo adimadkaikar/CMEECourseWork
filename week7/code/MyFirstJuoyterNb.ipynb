{
 "cells": [
  {
   "cell_type": "markdown",
   "id": "3996cde3-de39-45e9-b223-e6df0c89a22c",
   "metadata": {},
   "source": [
    "# My First Jupyter Notebook"
   ]
  },
  {
   "cell_type": "markdown",
   "id": "67e39d84-2d25-4697-9f8a-b5807310cefc",
   "metadata": {},
   "source": [
    "## Messing around with Pandas\n",
    "\n",
    "Importing all the required packages though :)"
   ]
  },
  {
   "cell_type": "code",
   "execution_count": 10,
   "id": "5b547f58-8d0b-491b-8dc2-65ad5f37f8b1",
   "metadata": {},
   "outputs": [],
   "source": [
    "import numpy as np\n",
    "import scipy as sc\n",
    "import pandas as pd\n",
    "import matplotlib.pyplot as p"
   ]
  },
  {
   "cell_type": "code",
   "execution_count": 7,
   "id": "80bbef2d-f3d0-4fa4-b2a9-377c7a502da9",
   "metadata": {},
   "outputs": [
    {
     "data": {
      "image/png": "[encoded data removed]",
      "text/plain": [
       "<Figure size 432x288 with 1 Axes>"
      ]
     },
     "metadata": {
      "needs_background": "light"
     },
     "output_type": "display_data"
    }
   ],
   "source": [
    "x = np.arange(0, 5, 0.1)\n",
    "y = np.sin(x)\n",
    "p.plot(x, y)\n",
    "p.show()"
   ]
  },
  {
   "cell_type": "code",
   "execution_count": 10,
   "id": "59cc313b-7456-4eec-a9c8-cc1420dd50dc",
   "metadata": {},
   "outputs": [
    {
     "data": {
      "text/html": [
       "<div>\n",
       "<style scoped>\n",
       "    .dataframe tbody tr th:only-of-type {\n",
       "        vertical-align: middle;\n",
       "    }\n",
       "\n",
       "    .dataframe tbody tr th {\n",
       "        vertical-align: top;\n",
       "    }\n",
       "\n",
       "    .dataframe thead th {\n",
       "        text-align: right;\n",
       "    }\n",
       "</style>\n",
       "<table border=\"1\" class=\"dataframe\">\n",
       "  <thead>\n",
       "    <tr style=\"text-align: right;\">\n",
       "      <th></th>\n",
       "      <th>Species</th>\n",
       "      <th>Infraorder</th>\n",
       "      <th>Family</th>\n",
       "      <th>Distribution</th>\n",
       "      <th>Body mass male (Kg)</th>\n",
       "    </tr>\n",
       "  </thead>\n",
       "  <tbody>\n",
       "    <tr>\n",
       "      <th>0</th>\n",
       "      <td>Daubentonia_madagascariensis</td>\n",
       "      <td>Chiromyiformes</td>\n",
       "      <td>Daubentoniidae</td>\n",
       "      <td>Madagascar</td>\n",
       "      <td>2.700</td>\n",
       "    </tr>\n",
       "    <tr>\n",
       "      <th>1</th>\n",
       "      <td>Allocebus_trichotis</td>\n",
       "      <td>Lemuriformes</td>\n",
       "      <td>Cheirogaleidae</td>\n",
       "      <td>Madagascar</td>\n",
       "      <td>0.100</td>\n",
       "    </tr>\n",
       "    <tr>\n",
       "      <th>2</th>\n",
       "      <td>Avahi_laniger</td>\n",
       "      <td>Lemuriformes</td>\n",
       "      <td>Indridae</td>\n",
       "      <td>America</td>\n",
       "      <td>1.030</td>\n",
       "    </tr>\n",
       "    <tr>\n",
       "      <th>3</th>\n",
       "      <td>Avahi_occidentalis</td>\n",
       "      <td>Lemuriformes</td>\n",
       "      <td>Indridae</td>\n",
       "      <td>Madagascar</td>\n",
       "      <td>0.814</td>\n",
       "    </tr>\n",
       "    <tr>\n",
       "      <th>4</th>\n",
       "      <td>Avahi_unicolor</td>\n",
       "      <td>Lemuriformes</td>\n",
       "      <td>Indridae</td>\n",
       "      <td>America</td>\n",
       "      <td>0.830</td>\n",
       "    </tr>\n",
       "    <tr>\n",
       "      <th>5</th>\n",
       "      <td>Cheirogaleus_adipicaudatus</td>\n",
       "      <td>Lemuriformes</td>\n",
       "      <td>Cheirogaleidae</td>\n",
       "      <td>Madagascar</td>\n",
       "      <td>0.200</td>\n",
       "    </tr>\n",
       "    <tr>\n",
       "      <th>6</th>\n",
       "      <td>Cheirogaleus_crossleyi</td>\n",
       "      <td>Lemuriformes</td>\n",
       "      <td>Cheirogaleidae</td>\n",
       "      <td>Madagascar</td>\n",
       "      <td>0.400</td>\n",
       "    </tr>\n",
       "    <tr>\n",
       "      <th>7</th>\n",
       "      <td>Cheirogaleus_major</td>\n",
       "      <td>Lemuriformes</td>\n",
       "      <td>Cheirogaleidae</td>\n",
       "      <td>Madagascar</td>\n",
       "      <td>0.450</td>\n",
       "    </tr>\n",
       "    <tr>\n",
       "      <th>8</th>\n",
       "      <td>Cheirogaleus_medius</td>\n",
       "      <td>Lemuriformes</td>\n",
       "      <td>Cheirogaleidae</td>\n",
       "      <td>Madagascar</td>\n",
       "      <td>0.217</td>\n",
       "    </tr>\n",
       "  </tbody>\n",
       "</table>\n",
       "</div>"
      ],
      "text/plain": [
       "                        Species       Infraorder          Family Distribution  \\\n",
       "0  Daubentonia_madagascariensis  Chiromyiformes   Daubentoniidae   Madagascar   \n",
       "1           Allocebus_trichotis     Lemuriformes  Cheirogaleidae   Madagascar   \n",
       "2                 Avahi_laniger     Lemuriformes        Indridae      America   \n",
       "3            Avahi_occidentalis     Lemuriformes        Indridae   Madagascar   \n",
       "4                Avahi_unicolor     Lemuriformes        Indridae      America   \n",
       "5    Cheirogaleus_adipicaudatus     Lemuriformes  Cheirogaleidae   Madagascar   \n",
       "6        Cheirogaleus_crossleyi     Lemuriformes  Cheirogaleidae   Madagascar   \n",
       "7            Cheirogaleus_major     Lemuriformes  Cheirogaleidae   Madagascar   \n",
       "8           Cheirogaleus_medius     Lemuriformes  Cheirogaleidae   Madagascar   \n",
       "\n",
       "   Body mass male (Kg)  \n",
       "0                2.700  \n",
       "1                0.100  \n",
       "2                1.030  \n",
       "3                0.814  \n",
       "4                0.830  \n",
       "5                0.200  \n",
       "6                0.400  \n",
       "7                0.450  \n",
       "8                0.217  "
      ]
     },
     "execution_count": 10,
     "metadata": {},
     "output_type": "execute_result"
    }
   ],
   "source": [
    "MyDF = pd.read_csv('../data/testcsv.csv', sep = ',')\n",
    "MyDF"
   ]
  },
  {
   "cell_type": "code",
   "execution_count": 11,
   "id": "1dbb1716-0d98-46c6-a690-8217629e3e53",
   "metadata": {},
   "outputs": [
    {
     "data": {
      "text/html": [
       "<div>\n",
       "<style scoped>\n",
       "    .dataframe tbody tr th:only-of-type {\n",
       "        vertical-align: middle;\n",
       "    }\n",
       "\n",
       "    .dataframe tbody tr th {\n",
       "        vertical-align: top;\n",
       "    }\n",
       "\n",
       "    .dataframe thead th {\n",
       "        text-align: right;\n",
       "    }\n",
       "</style>\n",
       "<table border=\"1\" class=\"dataframe\">\n",
       "  <thead>\n",
       "    <tr style=\"text-align: right;\">\n",
       "      <th></th>\n",
       "      <th>col1</th>\n",
       "      <th>col2</th>\n",
       "      <th>col3</th>\n",
       "    </tr>\n",
       "  </thead>\n",
       "  <tbody>\n",
       "    <tr>\n",
       "      <th>0</th>\n",
       "      <td>Var1</td>\n",
       "      <td>Grass</td>\n",
       "      <td>1.0</td>\n",
       "    </tr>\n",
       "    <tr>\n",
       "      <th>1</th>\n",
       "      <td>Var2</td>\n",
       "      <td>Rabbit</td>\n",
       "      <td>2.0</td>\n",
       "    </tr>\n",
       "    <tr>\n",
       "      <th>2</th>\n",
       "      <td>Var3</td>\n",
       "      <td>Fox</td>\n",
       "      <td>NaN</td>\n",
       "    </tr>\n",
       "    <tr>\n",
       "      <th>3</th>\n",
       "      <td>Var4</td>\n",
       "      <td>Wolf</td>\n",
       "      <td>4.0</td>\n",
       "    </tr>\n",
       "  </tbody>\n",
       "</table>\n",
       "</div>"
      ],
      "text/plain": [
       "   col1    col2  col3\n",
       "0  Var1   Grass   1.0\n",
       "1  Var2  Rabbit   2.0\n",
       "2  Var3     Fox   NaN\n",
       "3  Var4    Wolf   4.0"
      ]
     },
     "execution_count": 11,
     "metadata": {},
     "output_type": "execute_result"
    }
   ],
   "source": [
    "MyDF = pd.DataFrame({\n",
    "    'col1': ['Var1', 'Var2', 'Var3', 'Var4'],\n",
    "    'col2': ['Grass', 'Rabbit', 'Fox', 'Wolf'],\n",
    "    'col3': [1, 2, sc.nan, 4]\n",
    "})\n",
    "MyDF"
   ]
  },
  {
   "cell_type": "code",
   "execution_count": 13,
   "id": "51192c85-ff50-4899-ad48-271d76e1dbe2",
   "metadata": {},
   "outputs": [
    {
     "data": {
      "text/html": [
       "<div>\n",
       "<style scoped>\n",
       "    .dataframe tbody tr th:only-of-type {\n",
       "        vertical-align: middle;\n",
       "    }\n",
       "\n",
       "    .dataframe tbody tr th {\n",
       "        vertical-align: top;\n",
       "    }\n",
       "\n",
       "    .dataframe thead th {\n",
       "        text-align: right;\n",
       "    }\n",
       "</style>\n",
       "<table border=\"1\" class=\"dataframe\">\n",
       "  <thead>\n",
       "    <tr style=\"text-align: right;\">\n",
       "      <th></th>\n",
       "      <th>col1</th>\n",
       "      <th>col2</th>\n",
       "      <th>col3</th>\n",
       "    </tr>\n",
       "  </thead>\n",
       "  <tbody>\n",
       "    <tr>\n",
       "      <th>0</th>\n",
       "      <td>Var1</td>\n",
       "      <td>Grass</td>\n",
       "      <td>1.0</td>\n",
       "    </tr>\n",
       "    <tr>\n",
       "      <th>1</th>\n",
       "      <td>Var2</td>\n",
       "      <td>Rabbit</td>\n",
       "      <td>2.0</td>\n",
       "    </tr>\n",
       "    <tr>\n",
       "      <th>2</th>\n",
       "      <td>Var3</td>\n",
       "      <td>Fox</td>\n",
       "      <td>NaN</td>\n",
       "    </tr>\n",
       "    <tr>\n",
       "      <th>3</th>\n",
       "      <td>Var4</td>\n",
       "      <td>Wolf</td>\n",
       "      <td>4.0</td>\n",
       "    </tr>\n",
       "  </tbody>\n",
       "</table>\n",
       "</div>"
      ],
      "text/plain": [
       "   col1    col2  col3\n",
       "0  Var1   Grass   1.0\n",
       "1  Var2  Rabbit   2.0\n",
       "2  Var3     Fox   NaN\n",
       "3  Var4    Wolf   4.0"
      ]
     },
     "execution_count": 13,
     "metadata": {},
     "output_type": "execute_result"
    }
   ],
   "source": [
    "MyDF.head()"
   ]
  },
  {
   "cell_type": "code",
   "execution_count": 15,
   "id": "b60f2b27-67b6-405d-aa31-84289d792466",
   "metadata": {},
   "outputs": [
    {
     "data": {
      "text/html": [
       "<div>\n",
       "<style scoped>\n",
       "    .dataframe tbody tr th:only-of-type {\n",
       "        vertical-align: middle;\n",
       "    }\n",
       "\n",
       "    .dataframe tbody tr th {\n",
       "        vertical-align: top;\n",
       "    }\n",
       "\n",
       "    .dataframe thead th {\n",
       "        text-align: right;\n",
       "    }\n",
       "</style>\n",
       "<table border=\"1\" class=\"dataframe\">\n",
       "  <thead>\n",
       "    <tr style=\"text-align: right;\">\n",
       "      <th></th>\n",
       "      <th>col1</th>\n",
       "      <th>col2</th>\n",
       "      <th>col3</th>\n",
       "    </tr>\n",
       "  </thead>\n",
       "  <tbody>\n",
       "    <tr>\n",
       "      <th>0</th>\n",
       "      <td>Var1</td>\n",
       "      <td>Grass</td>\n",
       "      <td>1.0</td>\n",
       "    </tr>\n",
       "    <tr>\n",
       "      <th>1</th>\n",
       "      <td>Var2</td>\n",
       "      <td>Rabbit</td>\n",
       "      <td>2.0</td>\n",
       "    </tr>\n",
       "    <tr>\n",
       "      <th>2</th>\n",
       "      <td>Var3</td>\n",
       "      <td>Fox</td>\n",
       "      <td>NaN</td>\n",
       "    </tr>\n",
       "    <tr>\n",
       "      <th>3</th>\n",
       "      <td>Var4</td>\n",
       "      <td>Wolf</td>\n",
       "      <td>4.0</td>\n",
       "    </tr>\n",
       "  </tbody>\n",
       "</table>\n",
       "</div>"
      ],
      "text/plain": [
       "   col1    col2  col3\n",
       "0  Var1   Grass   1.0\n",
       "1  Var2  Rabbit   2.0\n",
       "2  Var3     Fox   NaN\n",
       "3  Var4    Wolf   4.0"
      ]
     },
     "execution_count": 15,
     "metadata": {},
     "output_type": "execute_result"
    }
   ],
   "source": [
    "MyDF.tail()"
   ]
  },
  {
   "cell_type": "code",
   "execution_count": 16,
   "id": "fb52511f-a29c-4413-bfff-a4727ba2a710",
   "metadata": {},
   "outputs": [
    {
     "data": {
      "text/plain": [
       "(4, 3)"
      ]
     },
     "execution_count": 16,
     "metadata": {},
     "output_type": "execute_result"
    }
   ],
   "source": [
    "MyDF.shape"
   ]
  },
  {
   "cell_type": "code",
   "execution_count": 18,
   "id": "0a521dc0-bb72-4fe5-9945-225a52e5d58c",
   "metadata": {},
   "outputs": [
    {
     "data": {
      "text/plain": [
       "4"
      ]
     },
     "execution_count": 18,
     "metadata": {},
     "output_type": "execute_result"
    }
   ],
   "source": [
    "len(MyDF)"
   ]
  },
  {
   "cell_type": "code",
   "execution_count": 19,
   "id": "7200890d-4e01-43c7-962a-b49a3044bda3",
   "metadata": {},
   "outputs": [
    {
     "data": {
      "text/plain": [
       "Index(['col1', 'col2', 'col3'], dtype='object')"
      ]
     },
     "execution_count": 19,
     "metadata": {},
     "output_type": "execute_result"
    }
   ],
   "source": [
    "MyDF.columns"
   ]
  },
  {
   "cell_type": "code",
   "execution_count": 17,
   "id": "3236db02-511e-4c5d-90ff-cb36f4081b73",
   "metadata": {},
   "outputs": [
    {
     "data": {
      "text/plain": [
       "col1     object\n",
       "col2     object\n",
       "col3    float64\n",
       "dtype: object"
      ]
     },
     "execution_count": 17,
     "metadata": {},
     "output_type": "execute_result"
    }
   ],
   "source": [
    "MyDF.dtypes"
   ]
  },
  {
   "cell_type": "code",
   "execution_count": 12,
   "id": "43f3696e-bcbc-4ddb-9ae5-8c6cf57f64ae",
   "metadata": {},
   "outputs": [
    {
     "data": {
      "text/html": [
       "<div>\n",
       "<style scoped>\n",
       "    .dataframe tbody tr th:only-of-type {\n",
       "        vertical-align: middle;\n",
       "    }\n",
       "\n",
       "    .dataframe tbody tr th {\n",
       "        vertical-align: top;\n",
       "    }\n",
       "\n",
       "    .dataframe thead th {\n",
       "        text-align: right;\n",
       "    }\n",
       "</style>\n",
       "<table border=\"1\" class=\"dataframe\">\n",
       "  <thead>\n",
       "    <tr style=\"text-align: right;\">\n",
       "      <th></th>\n",
       "      <th>col3</th>\n",
       "    </tr>\n",
       "  </thead>\n",
       "  <tbody>\n",
       "    <tr>\n",
       "      <th>count</th>\n",
       "      <td>3.000000</td>\n",
       "    </tr>\n",
       "    <tr>\n",
       "      <th>mean</th>\n",
       "      <td>2.333333</td>\n",
       "    </tr>\n",
       "    <tr>\n",
       "      <th>std</th>\n",
       "      <td>1.527525</td>\n",
       "    </tr>\n",
       "    <tr>\n",
       "      <th>min</th>\n",
       "      <td>1.000000</td>\n",
       "    </tr>\n",
       "    <tr>\n",
       "      <th>25%</th>\n",
       "      <td>1.500000</td>\n",
       "    </tr>\n",
       "    <tr>\n",
       "      <th>50%</th>\n",
       "      <td>2.000000</td>\n",
       "    </tr>\n",
       "    <tr>\n",
       "      <th>75%</th>\n",
       "      <td>3.000000</td>\n",
       "    </tr>\n",
       "    <tr>\n",
       "      <th>max</th>\n",
       "      <td>4.000000</td>\n",
       "    </tr>\n",
       "  </tbody>\n",
       "</table>\n",
       "</div>"
      ],
      "text/plain": [
       "           col3\n",
       "count  3.000000\n",
       "mean   2.333333\n",
       "std    1.527525\n",
       "min    1.000000\n",
       "25%    1.500000\n",
       "50%    2.000000\n",
       "75%    3.000000\n",
       "max    4.000000"
      ]
     },
     "execution_count": 12,
     "metadata": {},
     "output_type": "execute_result"
    }
   ],
   "source": [
    "MyDF.describe()"
   ]
  },
  {
   "cell_type": "code",
   "execution_count": 2,
   "id": "33ab9c4a-90fd-442a-aebf-9dd6c39692ef",
   "metadata": {
    "scrolled": true,
    "tags": []
   },
   "outputs": [],
   "source": [
    "import sympy"
   ]
  },
  {
   "cell_type": "code",
   "execution_count": 3,
   "id": "9d9176a5-035e-4bc6-bf96-71ae42a1287a",
   "metadata": {},
   "outputs": [],
   "source": [
    "%matplotlib inline\n",
    "import matplotlib.pyplot as p"
   ]
  },
  {
   "cell_type": "code",
   "execution_count": 4,
   "id": "113fc9f0-a95b-49e3-891e-451b93f5d74a",
   "metadata": {},
   "outputs": [],
   "source": [
    "from sympy import *\n",
    "import scipy as sc\n",
    "init_printing() # for pretty-printing equations etc"
   ]
  },
  {
   "cell_type": "code",
   "execution_count": 16,
   "id": "6a9e09b7-a559-48d6-afc0-21c27a916a36",
   "metadata": {},
   "outputs": [
    {
     "data": {
      "text/plain": [
       "sympy.core.symbol.Symbol"
      ]
     },
     "execution_count": 16,
     "metadata": {},
     "output_type": "execute_result"
    }
   ],
   "source": [
    "x = var('x')\n",
    "type(x)"
   ]
  },
  {
   "cell_type": "code",
   "execution_count": 19,
   "id": "ca895a4d-e629-4a38-b1d8-34a984ed28e0",
   "metadata": {},
   "outputs": [],
   "source": [
    "a, b, c = var('a, b, c')"
   ]
  },
  {
   "cell_type": "code",
   "execution_count": 20,
   "id": "e8641b1a-7547-42c8-8dca-3fcf4fd8ce45",
   "metadata": {},
   "outputs": [],
   "source": [
    "x = var('x', real = True)"
   ]
  },
  {
   "cell_type": "code",
   "execution_count": 21,
   "id": "9feb9444-9ad2-4ec0-afba-9d17e9c1b00a",
   "metadata": {},
   "outputs": [
    {
     "data": {
      "text/plain": [
       "False"
      ]
     },
     "execution_count": 21,
     "metadata": {},
     "output_type": "execute_result"
    }
   ],
   "source": [
    "x.is_imaginary"
   ]
  },
  {
   "cell_type": "code",
   "execution_count": 22,
   "id": "9180808a-d6a9-4165-b7e8-acc99dd30591",
   "metadata": {},
   "outputs": [
    {
     "data": {
      "text/html": [
       "<div>\n",
       "<style scoped>\n",
       "    .dataframe tbody tr th:only-of-type {\n",
       "        vertical-align: middle;\n",
       "    }\n",
       "\n",
       "    .dataframe tbody tr th {\n",
       "        vertical-align: top;\n",
       "    }\n",
       "\n",
       "    .dataframe thead th {\n",
       "        text-align: right;\n",
       "    }\n",
       "</style>\n",
       "<table border=\"1\" class=\"dataframe\">\n",
       "  <thead>\n",
       "    <tr style=\"text-align: right;\">\n",
       "      <th></th>\n",
       "      <th>X</th>\n",
       "      <th>Time</th>\n",
       "      <th>PopBio</th>\n",
       "      <th>Temp</th>\n",
       "      <th>Time_units</th>\n",
       "      <th>PopBio_units</th>\n",
       "      <th>Species</th>\n",
       "      <th>Medium</th>\n",
       "      <th>Rep</th>\n",
       "      <th>Citation</th>\n",
       "    </tr>\n",
       "  </thead>\n",
       "  <tbody>\n",
       "    <tr>\n",
       "      <th>0</th>\n",
       "      <td>1</td>\n",
       "      <td>669.879518</td>\n",
       "      <td>0.283276</td>\n",
       "      <td>5</td>\n",
       "      <td>Hours</td>\n",
       "      <td>OD_595</td>\n",
       "      <td>Chryseobacterium.balustinum</td>\n",
       "      <td>TSB</td>\n",
       "      <td>1</td>\n",
       "      <td>Bae, Y.M., Zheng, L., Hyun, J.E., Jung, K.S., ...</td>\n",
       "    </tr>\n",
       "    <tr>\n",
       "      <th>1</th>\n",
       "      <td>2</td>\n",
       "      <td>646.987952</td>\n",
       "      <td>0.283342</td>\n",
       "      <td>5</td>\n",
       "      <td>Hours</td>\n",
       "      <td>OD_595</td>\n",
       "      <td>Chryseobacterium.balustinum</td>\n",
       "      <td>TSB</td>\n",
       "      <td>1</td>\n",
       "      <td>Bae, Y.M., Zheng, L., Hyun, J.E., Jung, K.S., ...</td>\n",
       "    </tr>\n",
       "    <tr>\n",
       "      <th>2</th>\n",
       "      <td>3</td>\n",
       "      <td>622.891566</td>\n",
       "      <td>0.285151</td>\n",
       "      <td>5</td>\n",
       "      <td>Hours</td>\n",
       "      <td>OD_595</td>\n",
       "      <td>Chryseobacterium.balustinum</td>\n",
       "      <td>TSB</td>\n",
       "      <td>1</td>\n",
       "      <td>Bae, Y.M., Zheng, L., Hyun, J.E., Jung, K.S., ...</td>\n",
       "    </tr>\n",
       "    <tr>\n",
       "      <th>3</th>\n",
       "      <td>4</td>\n",
       "      <td>597.590361</td>\n",
       "      <td>0.281746</td>\n",
       "      <td>5</td>\n",
       "      <td>Hours</td>\n",
       "      <td>OD_595</td>\n",
       "      <td>Chryseobacterium.balustinum</td>\n",
       "      <td>TSB</td>\n",
       "      <td>1</td>\n",
       "      <td>Bae, Y.M., Zheng, L., Hyun, J.E., Jung, K.S., ...</td>\n",
       "    </tr>\n",
       "    <tr>\n",
       "      <th>4</th>\n",
       "      <td>5</td>\n",
       "      <td>574.698795</td>\n",
       "      <td>0.273117</td>\n",
       "      <td>5</td>\n",
       "      <td>Hours</td>\n",
       "      <td>OD_595</td>\n",
       "      <td>Chryseobacterium.balustinum</td>\n",
       "      <td>TSB</td>\n",
       "      <td>1</td>\n",
       "      <td>Bae, Y.M., Zheng, L., Hyun, J.E., Jung, K.S., ...</td>\n",
       "    </tr>\n",
       "    <tr>\n",
       "      <th>...</th>\n",
       "      <td>...</td>\n",
       "      <td>...</td>\n",
       "      <td>...</td>\n",
       "      <td>...</td>\n",
       "      <td>...</td>\n",
       "      <td>...</td>\n",
       "      <td>...</td>\n",
       "      <td>...</td>\n",
       "      <td>...</td>\n",
       "      <td>...</td>\n",
       "    </tr>\n",
       "    <tr>\n",
       "      <th>4382</th>\n",
       "      <td>432</td>\n",
       "      <td>0.057355</td>\n",
       "      <td>2.447187</td>\n",
       "      <td>25</td>\n",
       "      <td>Hours</td>\n",
       "      <td>N</td>\n",
       "      <td>Lactobaciulus plantarum</td>\n",
       "      <td>MRS</td>\n",
       "      <td>1</td>\n",
       "      <td>Zwietering, M.H., De Wit, J.C., Cuppers, H.G.A...</td>\n",
       "    </tr>\n",
       "    <tr>\n",
       "      <th>4383</th>\n",
       "      <td>433</td>\n",
       "      <td>2.492604</td>\n",
       "      <td>2.327517</td>\n",
       "      <td>25</td>\n",
       "      <td>Hours</td>\n",
       "      <td>N</td>\n",
       "      <td>Lactobaciulus plantarum</td>\n",
       "      <td>MRS</td>\n",
       "      <td>1</td>\n",
       "      <td>Zwietering, M.H., De Wit, J.C., Cuppers, H.G.A...</td>\n",
       "    </tr>\n",
       "    <tr>\n",
       "      <th>4384</th>\n",
       "      <td>434</td>\n",
       "      <td>1.743012</td>\n",
       "      <td>2.485061</td>\n",
       "      <td>25</td>\n",
       "      <td>Hours</td>\n",
       "      <td>N</td>\n",
       "      <td>Lactobaciulus plantarum</td>\n",
       "      <td>MRS</td>\n",
       "      <td>1</td>\n",
       "      <td>Zwietering, M.H., De Wit, J.C., Cuppers, H.G.A...</td>\n",
       "    </tr>\n",
       "    <tr>\n",
       "      <th>4385</th>\n",
       "      <td>435</td>\n",
       "      <td>0.994529</td>\n",
       "      <td>2.182619</td>\n",
       "      <td>25</td>\n",
       "      <td>Hours</td>\n",
       "      <td>N</td>\n",
       "      <td>Lactobaciulus plantarum</td>\n",
       "      <td>MRS</td>\n",
       "      <td>1</td>\n",
       "      <td>Zwietering, M.H., De Wit, J.C., Cuppers, H.G.A...</td>\n",
       "    </tr>\n",
       "    <tr>\n",
       "      <th>4386</th>\n",
       "      <td>436</td>\n",
       "      <td>2.241570</td>\n",
       "      <td>2.923404</td>\n",
       "      <td>25</td>\n",
       "      <td>Hours</td>\n",
       "      <td>N</td>\n",
       "      <td>Lactobaciulus plantarum</td>\n",
       "      <td>MRS</td>\n",
       "      <td>1</td>\n",
       "      <td>Zwietering, M.H., De Wit, J.C., Cuppers, H.G.A...</td>\n",
       "    </tr>\n",
       "  </tbody>\n",
       "</table>\n",
       "<p>4387 rows × 10 columns</p>\n",
       "</div>"
      ],
      "text/plain": [
       "        X        Time    PopBio  Temp Time_units PopBio_units  \\\n",
       "0       1  669.879518  0.283276     5      Hours       OD_595   \n",
       "1       2  646.987952  0.283342     5      Hours       OD_595   \n",
       "2       3  622.891566  0.285151     5      Hours       OD_595   \n",
       "3       4  597.590361  0.281746     5      Hours       OD_595   \n",
       "4       5  574.698795  0.273117     5      Hours       OD_595   \n",
       "...   ...         ...       ...   ...        ...          ...   \n",
       "4382  432    0.057355  2.447187    25      Hours            N   \n",
       "4383  433    2.492604  2.327517    25      Hours            N   \n",
       "4384  434    1.743012  2.485061    25      Hours            N   \n",
       "4385  435    0.994529  2.182619    25      Hours            N   \n",
       "4386  436    2.241570  2.923404    25      Hours            N   \n",
       "\n",
       "                          Species Medium  Rep  \\\n",
       "0     Chryseobacterium.balustinum    TSB    1   \n",
       "1     Chryseobacterium.balustinum    TSB    1   \n",
       "2     Chryseobacterium.balustinum    TSB    1   \n",
       "3     Chryseobacterium.balustinum    TSB    1   \n",
       "4     Chryseobacterium.balustinum    TSB    1   \n",
       "...                           ...    ...  ...   \n",
       "4382      Lactobaciulus plantarum    MRS    1   \n",
       "4383      Lactobaciulus plantarum    MRS    1   \n",
       "4384      Lactobaciulus plantarum    MRS    1   \n",
       "4385      Lactobaciulus plantarum    MRS    1   \n",
       "4386      Lactobaciulus plantarum    MRS    1   \n",
       "\n",
       "                                               Citation  \n",
       "0     Bae, Y.M., Zheng, L., Hyun, J.E., Jung, K.S., ...  \n",
       "1     Bae, Y.M., Zheng, L., Hyun, J.E., Jung, K.S., ...  \n",
       "2     Bae, Y.M., Zheng, L., Hyun, J.E., Jung, K.S., ...  \n",
       "3     Bae, Y.M., Zheng, L., Hyun, J.E., Jung, K.S., ...  \n",
       "4     Bae, Y.M., Zheng, L., Hyun, J.E., Jung, K.S., ...  \n",
       "...                                                 ...  \n",
       "4382  Zwietering, M.H., De Wit, J.C., Cuppers, H.G.A...  \n",
       "4383  Zwietering, M.H., De Wit, J.C., Cuppers, H.G.A...  \n",
       "4384  Zwietering, M.H., De Wit, J.C., Cuppers, H.G.A...  \n",
       "4385  Zwietering, M.H., De Wit, J.C., Cuppers, H.G.A...  \n",
       "4386  Zwietering, M.H., De Wit, J.C., Cuppers, H.G.A...  \n",
       "\n",
       "[4387 rows x 10 columns]"
      ]
     },
     "execution_count": 22,
     "metadata": {},
     "output_type": "execute_result"
    }
   ],
   "source": [
    "WeirdDF = pd.read_csv('../../miniproject/data/LogisticGrowthData.csv')\n",
    "WeirdDF"
   ]
  },
  {
   "cell_type": "code",
   "execution_count": 23,
   "id": "414e5c88-3115-4229-a14f-877cb43dc74a",
   "metadata": {},
   "outputs": [],
   "source": [
    "x = Symbol('x', positive = True)"
   ]
  },
  {
   "cell_type": "code",
   "execution_count": 27,
   "id": "c496721a-9fce-4f06-ac34-b2c9590774be",
   "metadata": {},
   "outputs": [
    {
     "data": {
      "text/plain": [
       "False"
      ]
     },
     "execution_count": 27,
     "metadata": {},
     "output_type": "execute_result"
    }
   ],
   "source": [
    "x.is_imaginary"
   ]
  },
  {
   "cell_type": "code",
   "execution_count": 28,
   "id": "230c129b-8e43-487b-94d3-0012dfd0a8ce",
   "metadata": {},
   "outputs": [],
   "source": [
    "x > 0 \n",
    "x < 0"
   ]
  },
  {
   "cell_type": "code",
   "execution_count": 36,
   "id": "2b066e06-51a1-44fc-82d1-d174248874c1",
   "metadata": {},
   "outputs": [
    {
     "data": {
      "image/png": "[encoded data removed]",
      "text/latex": [
       "$\\displaystyle \\left(x + \\pi\\right)^{2}$"
      ],
      "text/plain": [
       "       2\n",
       "(x + π) "
      ]
     },
     "execution_count": 36,
     "metadata": {},
     "output_type": "execute_result"
    }
   ],
   "source": [
    "MyFun = (pi + x )**2\n",
    "MyFun"
   ]
  },
  {
   "cell_type": "code",
   "execution_count": 48,
   "id": "9d88a014-24d8-4655-ad1f-b05472ae22dd",
   "metadata": {},
   "outputs": [],
   "source": [
    "N_0, N_max, r_max, t_lag, t = var('N_0, N_max, r_max, t_lag, t', positive = True)"
   ]
  },
  {
   "cell_type": "code",
   "execution_count": 49,
   "id": "606a66a2-595f-4611-bb62-7908fae0a54b",
   "metadata": {},
   "outputs": [],
   "source": [
    "MyFun = N_0 + (N_max - N_0) * exp(-exp(r_max * exp(1) * (t_lag - t)/((N_max - N_0) * log(10)) + 1))"
   ]
  },
  {
   "cell_type": "code",
   "execution_count": 50,
   "id": "edc8ea47-e43f-4079-98a3-d9ba5df94d33",
   "metadata": {},
   "outputs": [
    {
     "data": {
      "text/plain": [
       "'N_{0} + \\\\left(- N_{0} + N_{max}\\\\right) e^{- e^{\\\\frac{e r_{max} \\\\left(- t + t_{lag}\\\\right)}{\\\\left(- N_{0} + N_{max}\\\\right) \\\\log{\\\\left(10 \\\\right)}} + 1}}'"
      ]
     },
     "execution_count": 50,
     "metadata": {},
     "output_type": "execute_result"
    }
   ],
   "source": [
    "latex(MyFun)"
   ]
  },
  {
   "cell_type": "code",
   "execution_count": 51,
   "id": "0d4e44ea-5e59-467a-a7a2-074458426dc6",
   "metadata": {},
   "outputs": [
    {
     "name": "stdout",
     "output_type": "stream",
     "text": [
      "N_{0} + \\left(- N_{0} + N_{max}\\right) e^{- e^{\\frac{e r_{max} \\left(- t + t_{lag}\\right)}{\\left(- N_{0} + N_{max}\\right) \\log{\\left(10 \\right)}} + 1}}\n"
     ]
    }
   ],
   "source": [
    "print(latex(MyFun))"
   ]
  },
  {
   "cell_type": "code",
   "execution_count": 52,
   "id": "8b483f2b-2b3e-42d9-bb9a-4495c60605b1",
   "metadata": {},
   "outputs": [
    {
     "data": {
      "image/png": "[encoded data removed]",
      "text/latex": [
       "$\\displaystyle 3.1415926535897932384626433832795028841971693993751$"
      ],
      "text/plain": [
       "3.1415926535897932384626433832795028841971693993751"
      ]
     },
     "execution_count": 52,
     "metadata": {},
     "output_type": "execute_result"
    }
   ],
   "source": [
    "N(pi, 50)"
   ]
  },
  {
   "cell_type": "code",
   "execution_count": 53,
   "id": "0f42fc3d-612f-4d2b-a8ec-0ddaf7a7239e",
   "metadata": {},
   "outputs": [
    {
     "data": {
      "image/png": "[encoded data removed]",
      "text/latex": [
       "$\\displaystyle N_{0} + \\left(- N_{0} + N_{max}\\right) e^{- e^{\\frac{e r_{max} \\left(- t + t_{lag}\\right)}{\\left(- N_{0} + N_{max}\\right) \\log{\\left(10 \\right)}} + 1}}$"
      ],
      "text/plain": [
       "                     ℯ⋅rₘₐₓ⋅(-t + t_lag)     \n",
       "                     ──────────────────── + 1\n",
       "                     (-N₀ + Nₘₐₓ)⋅log(10)    \n",
       "                   -ℯ                        \n",
       "N₀ + (-N₀ + Nₘₐₓ)⋅ℯ                          "
      ]
     },
     "execution_count": 53,
     "metadata": {},
     "output_type": "execute_result"
    }
   ],
   "source": [
    "N(MyFun, 5)"
   ]
  },
  {
   "cell_type": "code",
   "execution_count": 39,
   "id": "a72e44a9-b7dd-426c-bec5-b6e0283da9da",
   "metadata": {},
   "outputs": [
    {
     "data": {
      "image/png": "[encoded data removed]",
      "text/latex": [
       "$\\displaystyle \\left(a + 2 \\pi\\right)^{2}$"
      ],
      "text/plain": [
       "         2\n",
       "(a + 2⋅π) "
      ]
     },
     "execution_count": 39,
     "metadata": {},
     "output_type": "execute_result"
    }
   ],
   "source": [
    "MyFun.subs(x, a + pi)"
   ]
  },
  {
   "cell_type": "code",
   "execution_count": 41,
   "id": "e6c4acc1-600a-4666-8c0d-0eb00c5b711c",
   "metadata": {},
   "outputs": [],
   "source": [
    "x_vec = np.arange(0, 10, 0.1)"
   ]
  },
  {
   "cell_type": "code",
   "execution_count": 42,
   "id": "7ae66569-18e8-4af6-a6cf-cd57d0d37620",
   "metadata": {},
   "outputs": [],
   "source": [
    "MyFun_vec = np.array([N(MyFun.subs(x, xx)) for xx in x_vec]) #Note: using a list comprehension!"
   ]
  },
  {
   "cell_type": "code",
   "execution_count": 45,
   "id": "651e2006-0aee-45e4-8554-3577bf64152e",
   "metadata": {},
   "outputs": [],
   "source": [
    "MyFun_new_vec = np.array([N((MyFun_new).subs(a, xx)) for xx in x_vec])"
   ]
  },
  {
   "cell_type": "code",
   "execution_count": 46,
   "id": "87efb97d-1f02-4046-a601-4a6f30c41c97",
   "metadata": {},
   "outputs": [
    {
     "data": {
      "image/png": "[encoded data removed]",
      "text/latex": [
       "$\\displaystyle \\left(a + 2 \\pi\\right)^{2}$"
      ],
      "text/plain": [
       "         2\n",
       "(a + 2⋅π) "
      ]
     },
     "execution_count": 46,
     "metadata": {},
     "output_type": "execute_result"
    }
   ],
   "source": [
    "MyFun_new = MyFun.subs(x, a+pi); MyFun_new"
   ]
  },
  {
   "cell_type": "markdown",
   "id": "58c4bac6-d64d-4ddf-b867-f278674247b6",
   "metadata": {},
   "source": [
    "## Poor unfortunate CMEE students :("
   ]
  },
  {
   "cell_type": "code",
   "execution_count": null,
   "id": "803b4b46-c23d-4e42-bfd9-fd35799f9696",
   "metadata": {},
   "outputs": [],
   "source": []
  }
 ],
 "metadata": {
  "kernelspec": {
   "display_name": "Python 3 (ipykernel)",
   "language": "python",
   "name": "python3"
  },
  "language_info": {
   "codemirror_mode": {
    "name": "ipython",
    "version": 3
   },
   "file_extension": ".py",
   "mimetype": "text/x-python",
   "name": "python",
   "nbconvert_exporter": "python",
   "pygments_lexer": "ipython3",
   "version": "3.10.6"
  }
 },
 "nbformat": 4,
 "nbformat_minor": 5
}
