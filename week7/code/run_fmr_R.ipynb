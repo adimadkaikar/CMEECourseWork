{
 "cells": [
  {
   "cell_type": "code",
   "execution_count": 1,
   "id": "9c797a52-b915-48a3-8fe3-828577dce48a",
   "metadata": {},
   "outputs": [],
   "source": [
    "import subprocess"
   ]
  },
  {
   "cell_type": "code",
   "execution_count": 2,
   "id": "bfa1c508-f82e-49ef-9d55-e09922770df3",
   "metadata": {},
   "outputs": [
    {
     "name": "stdout",
     "output_type": "stream",
     "text": [
      "Reading CSV\n",
      "Creating graph\n",
      "null device \n",
      "          1 \n",
      "Finished in R!\n",
      "Successful run from python!\n"
     ]
    }
   ],
   "source": [
    "p = subprocess.Popen(\"Rscript ../code/fmr.R\", shell=True).wait()\n",
    "if p==0:\n",
    "    print(\"Successful run from python!\")\n",
    "else: \n",
    "    print(\"Fatal error. Please fix and retry :)\")"
   ]
  }
 ],
 "metadata": {
  "kernelspec": {
   "display_name": "Python 3 (ipykernel)",
   "language": "python",
   "name": "python3"
  },
  "language_info": {
   "codemirror_mode": {
    "name": "ipython",
    "version": 3
   },
   "file_extension": ".py",
   "mimetype": "text/x-python",
   "name": "python",
   "nbconvert_exporter": "python",
   "pygments_lexer": "ipython3",
   "version": "3.10.6"
  }
 },
 "nbformat": 4,
 "nbformat_minor": 5
}
